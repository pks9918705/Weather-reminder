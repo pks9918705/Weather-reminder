{
  "nbformat": 4,
  "nbformat_minor": 0,
  "metadata": {
    "colab": {
      "provenance": []
    },
    "kernelspec": {
      "name": "python3",
      "display_name": "Python 3"
    },
    "language_info": {
      "name": "python"
    }
  },
  "cells": [
    {
      "cell_type": "markdown",
      "source": [
        "\n",
        "**Installing Schedule**"
      ],
      "metadata": {
        "id": "L8yHKgE5Scyd"
      }
    },
    {
      "cell_type": "code",
      "source": [
        "!pip install schedule\n"
      ],
      "metadata": {
        "colab": {
          "base_uri": "https://localhost:8080/"
        },
        "id": "9uKY0SEqSUdr",
        "outputId": "87c92915-be7c-4ea5-8858-6d9714a48864"
      },
      "execution_count": 3,
      "outputs": [
        {
          "output_type": "stream",
          "name": "stdout",
          "text": [
            "Collecting schedule\n",
            "  Downloading schedule-1.2.2-py3-none-any.whl.metadata (3.8 kB)\n",
            "Downloading schedule-1.2.2-py3-none-any.whl (12 kB)\n",
            "Installing collected packages: schedule\n",
            "Successfully installed schedule-1.2.2\n"
          ]
        }
      ]
    },
    {
      "cell_type": "code",
      "source": [
        "import schedule\n",
        "import smtplib\n",
        "import requests\n",
        "from bs4 import BeautifulSoup\n",
        "import time\n",
        "\n",
        "def umbrellaReminder():\n",
        "    city = \"Hyderabad\"\n",
        "    print(\"Function started\")\n",
        "\n",
        "    # Step 1: Create URL and make a request to fetch HTML content\n",
        "    url = f\"https://www.google.com/search?q=weather+{city}\"\n",
        "    print(f\"Fetching data from URL: {url}\")  # Debug statement\n",
        "    html = requests.get(url).content\n",
        "\n",
        "    # Step 2: Parse the HTML content using BeautifulSoup\n",
        "    soup = BeautifulSoup(html, 'html.parser')\n",
        "    print(\"HTML content fetched successfully.\")  # Debug statement\n",
        "\n",
        "    # Find temperature and weather condition\n",
        "    try:\n",
        "        temperature = soup.find('div', attrs={'class': 'BNeawe iBp4i AP7Wnd'}).text\n",
        "        time_sky = soup.find('div', attrs={'class': 'BNeawe tAd8D AP7Wnd'}).text\n",
        "    except AttributeError as e:\n",
        "        print(\"Error parsing HTML:\", e)\n",
        "        return\n",
        "\n",
        "    # Step 3: Format the weather data\n",
        "    sky = time_sky.split('\\n')[1]\n",
        "    print(f\"Weather condition: {sky}\")  # Debug statement\n",
        "\n",
        "    # Step 4: Check weather conditions and send an email if necessary\n",
        "    if sky in [\"Rainy\", \"Rain And Snow\", \"Showers\", \"Haze\", \"Cloudy\",\"Mist\"]:\n",
        "        print(sky)\n",
        "        smtp_object = smtplib.SMTP('smtp.gmail.com', 587)\n",
        "\n",
        "        # Start TLS for security\n",
        "        smtp_object.starttls()\n",
        "\n",
        "        # Authentication\n",
        "        try:\n",
        "            smtp_object.login(\"djsnake21032001@gmail.com\", \"grqg xbnn bmlv mnhx\")\n",
        "        except smtplib.SMTPAuthenticationError as e:\n",
        "            print(\"Authentication error:\", e)\n",
        "            return\n",
        "\n",
        "        # Define subject and body\n",
        "        subject = \"Umbrella Reminder\"\n",
        "        body = (f\"Take an umbrella before leaving the house.\\n\"\n",
        "                f\"Weather condition for today is {sky} and temperature is {temperature} in {city}.\")\n",
        "        msg = f\"Subject:{subject}\\n\\n{body}\\n\\nRegards,\\nGeeksforGeeks\".encode('utf-8')\n",
        "\n",
        "        # Send the email\n",
        "        try:\n",
        "            smtp_object.sendmail(\"pk9918705@gmail.com\", \"pks9918705@gmail.com\", msg)\n",
        "            print(\"Email Sent!\")\n",
        "        except smtplib.SMTPException as e:\n",
        "            print(\"Error sending email:\", e)\n",
        "\n",
        "        # Terminate the SMTP session\n",
        "        smtp_object.quit()\n",
        "\n",
        "# Test the umbrellaReminder function directly\n",
        "umbrellaReminder()\n",
        "\n",
        "# Alternatively, use the following code to simulate scheduling\n",
        "# schedule.every().day.at(\"21:10\").do(umbrellaReminder)\n",
        "\n",
        "# # Run the scheduler for a limited time\n",
        "# for _ in range(10):  # Run 10 times\n",
        "#     schedule.run_pending()\n",
        "#     time.sleep(60)  # Wait 1 minute before the next check\n"
      ],
      "metadata": {
        "colab": {
          "base_uri": "https://localhost:8080/",
          "height": 180
        },
        "id": "uCAo77nlSaGC",
        "outputId": "e2fb8051-5cfe-4e30-b3ff-eb72d0852ea8"
      },
      "execution_count": 26,
      "outputs": [
        {
          "output_type": "error",
          "ename": "KeyboardInterrupt",
          "evalue": "",
          "traceback": [
            "\u001b[0;31m---------------------------------------------------------------------------\u001b[0m",
            "\u001b[0;31mKeyboardInterrupt\u001b[0m                         Traceback (most recent call last)",
            "\u001b[0;32m<ipython-input-26-dfc0227d7f3a>\u001b[0m in \u001b[0;36m<cell line: 70>\u001b[0;34m()\u001b[0m\n\u001b[1;32m     70\u001b[0m \u001b[0;32mfor\u001b[0m \u001b[0m_\u001b[0m \u001b[0;32min\u001b[0m \u001b[0mrange\u001b[0m\u001b[0;34m(\u001b[0m\u001b[0;36m10\u001b[0m\u001b[0;34m)\u001b[0m\u001b[0;34m:\u001b[0m  \u001b[0;31m# Run 10 times\u001b[0m\u001b[0;34m\u001b[0m\u001b[0;34m\u001b[0m\u001b[0m\n\u001b[1;32m     71\u001b[0m     \u001b[0mschedule\u001b[0m\u001b[0;34m.\u001b[0m\u001b[0mrun_pending\u001b[0m\u001b[0;34m(\u001b[0m\u001b[0;34m)\u001b[0m\u001b[0;34m\u001b[0m\u001b[0;34m\u001b[0m\u001b[0m\n\u001b[0;32m---> 72\u001b[0;31m     \u001b[0mtime\u001b[0m\u001b[0;34m.\u001b[0m\u001b[0msleep\u001b[0m\u001b[0;34m(\u001b[0m\u001b[0;36m60\u001b[0m\u001b[0;34m)\u001b[0m  \u001b[0;31m# Wait 1 minute before the next check\u001b[0m\u001b[0;34m\u001b[0m\u001b[0;34m\u001b[0m\u001b[0m\n\u001b[0m",
            "\u001b[0;31mKeyboardInterrupt\u001b[0m: "
          ]
        }
      ]
    }
  ]
}